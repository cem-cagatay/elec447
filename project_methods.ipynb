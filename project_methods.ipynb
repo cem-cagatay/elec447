{
 "cells": [
  {
   "cell_type": "code",
   "execution_count": null,
   "id": "e50742f1",
   "metadata": {},
   "outputs": [],
   "source": [
    "import wfdb\n",
    "import matplotlib.pyplot as plt\n",
    "\n",
    "import pandas as pd\n",
    "import numpy as np\n",
    "import ast\n",
    "import os\n",
    "import json"
   ]
  },
  {
   "cell_type": "code",
   "execution_count": null,
   "id": "7d78c900",
   "metadata": {},
   "outputs": [],
   "source": [
    "# imports for filtering\n",
    "\n",
    "from scipy.signal import butter, lfilter, iirnotch, filtfilt\n",
    "from scipy.signal import find_peaks"
   ]
  },
  {
   "cell_type": "markdown",
   "id": "c1985192",
   "metadata": {},
   "source": [
    "### Code for reading a single signal:"
   ]
  },
  {
   "cell_type": "code",
   "execution_count": null,
   "id": "c3d80400",
   "metadata": {},
   "outputs": [],
   "source": [
    "# Specify the path to your WFDB signal file (e.g., '01000_lr.dat')\n",
    "signal_file = '01000_lr'\n",
    "\n",
    "# Use wfdb.rdrecord() to read the signal file\n",
    "record = wfdb.rdrecord(signal_file)\n",
    "\n",
    "# Access the signal data and metadata\n",
    "signal_data = record.p_signal  # NumPy array containing signal data\n",
    "signal_metadata = record.__dict__  # Dictionary containing metadata\n",
    "\n",
    "# You can access various metadata properties like sampling frequency, units, etc.\n",
    "fs = record.fs  # Sampling frequency\n",
    "\n",
    "# Visualize the signal\n",
    "plt.figure(figsize=(12, 4))\n",
    "plt.plot(signal_data)\n",
    "plt.title('ECG')\n",
    "plt.xlabel('Sample')\n",
    "plt.ylabel('Amplitude')\n",
    "plt.grid(True)\n",
    "plt.show()"
   ]
  },
  {
   "cell_type": "markdown",
   "id": "dcc5e569",
   "metadata": {},
   "source": [
    "### Filtering of a single signal\n",
    "#### - Şimal'in eklediği kısım"
   ]
  },
  {
   "cell_type": "code",
   "execution_count": null,
   "id": "ac12d6b8",
   "metadata": {},
   "outputs": [],
   "source": [
    "# Example: Filtering the ECG signal (Lead I)\n",
    "ecg_lead = signal_data[:, 0]  # Assuming Lead I is the first column\n",
    "\n",
    "# High-pass filter to remove baseline wander\n",
    "b, a = butter(1, 0.5/(0.5*fs), btype='highpass')\n",
    "filtered_ecg = filtfilt(b, a, ecg_lead)\n",
    "\n",
    "# R-peak detection\n",
    "r_peaks, _ = find_peaks(filtered_ecg, height=np.max(filtered_ecg)*0.5, distance=fs*0.6)\n",
    "rr_intervals = np.diff(r_peaks) / fs  # dividing by sampling frequency to get time in seconds\n",
    "print(\"RR Intervals:\")\n",
    "print(rr_intervals)\n",
    "\n",
    "heart_rate = 60 / rr_intervals  # BPM\n",
    "print(\"Heart Rates:\")\n",
    "print(heart_rate)\n",
    "\n",
    "average_heart_rate = np.mean(heart_rate)\n",
    "\n",
    "print(f\"Average Heart Rate: {average_heart_rate} BPM\")\n",
    "# Visualize filtered signal with R-peaks\n",
    "plt.figure(figsize=(15, 5))\n",
    "plt.plot(filtered_ecg, label='Filtered ECG')\n",
    "plt.plot(r_peaks, filtered_ecg[r_peaks], 'rx', label='R-peaks')\n",
    "plt.title('Filtered ECG with R-Peak Detection')\n",
    "plt.xlabel('Samples')\n",
    "plt.ylabel('Amplitude')\n",
    "plt.legend()\n",
    "plt.show()"
   ]
  },
  {
   "cell_type": "code",
   "execution_count": null,
   "id": "51bb9381",
   "metadata": {},
   "outputs": [],
   "source": [
    "# Sample ECG data - replace with your actual data\n",
    "\n",
    "# Sample indices for P waves, QRS complexes, and T waves - replace with actual indices\n",
    "p_waves = r_peaks - 50  # Example P wave indices\n",
    "qrs_start = r_peaks - 20  # Example start of QRS complex\n",
    "qrs_end = r_peaks + 20   # Example end of QRS complex\n",
    "t_waves = r_peaks + 50  # Example T wave indices\n",
    "\n",
    "# Plotting\n",
    "plt.figure(figsize=(15, 5))\n",
    "plt.plot(filtered_ecg, label='ECG Signal')\n",
    "\n",
    "# Mark R peaks\n",
    "plt.plot(r_peaks, filtered_ecg[r_peaks], 'ro', label='R Peaks')\n",
    "\n",
    "# Mark P waves\n",
    "plt.plot(p_waves, filtered_ecg[p_waves], 'go', label='P Waves')\n",
    "\n",
    "# Mark QRS complexes\n",
    "for start, end in zip(qrs_start, qrs_end):\n",
    "    plt.axvspan(start, end, color='y', alpha=0.3, label='QRS Complex' if start == qrs_start[0] else \"\")\n",
    "\n",
    "# Mark T waves\n",
    "plt.plot(t_waves, filtered_ecg[t_waves], 'bo', label='T Waves')\n",
    "\n",
    "plt.title('ECG Signal with R Peaks, P Waves, QRS Complexes, and T Waves')\n",
    "plt.xlabel('Sample')\n",
    "plt.ylabel('Amplitude')\n",
    "plt.legend()\n",
    "plt.grid(True)\n",
    "plt.show()"
   ]
  }
 ],
 "metadata": {
  "kernelspec": {
   "display_name": "Python 3 (ipykernel)",
   "language": "python",
   "name": "python3"
  },
  "language_info": {
   "codemirror_mode": {
    "name": "ipython",
    "version": 3
   },
   "file_extension": ".py",
   "mimetype": "text/x-python",
   "name": "python",
   "nbconvert_exporter": "python",
   "pygments_lexer": "ipython3",
   "version": "3.9.18"
  }
 },
 "nbformat": 4,
 "nbformat_minor": 5
}
