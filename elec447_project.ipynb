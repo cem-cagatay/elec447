{
 "cells": [
  {
   "cell_type": "code",
   "execution_count": 1,
   "id": "700de39a",
   "metadata": {},
   "outputs": [],
   "source": [
    "import wfdb\n",
    "import matplotlib.pyplot as plt\n",
    "\n",
    "import pandas as pd\n",
    "import numpy as np\n",
    "import ast\n",
    "import os\n",
    "import json"
   ]
  },
  {
   "cell_type": "code",
   "execution_count": 2,
   "id": "ad9bcbf2",
   "metadata": {},
   "outputs": [],
   "source": [
    "# imports for filtering\n",
    "\n",
    "from scipy.signal import butter, lfilter, iirnotch, filtfilt\n",
    "from scipy.signal import find_peaks"
   ]
  },
  {
   "cell_type": "code",
   "execution_count": 3,
   "id": "fbe2930d",
   "metadata": {},
   "outputs": [],
   "source": [
    "from sklearn.model_selection import train_test_split\n",
    "from sklearn.linear_model import LogisticRegression\n",
    "from sklearn.metrics import accuracy_score"
   ]
  },
  {
   "cell_type": "markdown",
   "id": "dc94ae54",
   "metadata": {},
   "source": [
    "### Code for reading multiple signals:"
   ]
  },
  {
   "cell_type": "code",
   "execution_count": 4,
   "id": "64f40baa",
   "metadata": {},
   "outputs": [],
   "source": [
    "def load_raw_data(df, sampling_rate, path, df_column):\n",
    "    data = []\n",
    "    labels =[]\n",
    "    \n",
    "    \n",
    "    warning_issued = False  # flag to track if a warning has been issued\n",
    "    \n",
    "    if sampling_rate == 100:\n",
    "        filenames = df.filename_lr\n",
    "    else:\n",
    "        filenames = df.filename_hr\n",
    "    \n",
    "    for i, row in df.iterrows():\n",
    "        f = row['filename_lr'] if sampling_rate == 100 else row['filename_hr']\n",
    "        \n",
    "        file_path_dat = os.path.join(path, f + '.dat')\n",
    "        file_path_hea = os.path.join(path, f + '.hea')\n",
    "        \n",
    "        if os.path.exists(file_path_dat) and os.path.exists(file_path_hea):\n",
    "            signal, meta = wfdb.rdsamp(os.path.join(path, f), channels=[1])\n",
    "            data.append(signal)\n",
    "            labels.append(row[df_column])\n",
    "        else:\n",
    "            if not warning_issued:\n",
    "                print(\"Warning: One or more files do not exist. Further missing files will not be reported.\")\n",
    "                warning_issued = True\n",
    "\n",
    "    if not data:\n",
    "        print(\"No valid data found.\")\n",
    "        return None\n",
    "\n",
    "    data = np.array(data)\n",
    "    return data, labels"
   ]
  },
  {
   "cell_type": "code",
   "execution_count": 5,
   "id": "140984e8",
   "metadata": {},
   "outputs": [],
   "source": [
    "# load and convert annotation data\n",
    "sampling_rate=100\n",
    "Y = pd.read_csv('ptbxl_database.csv', index_col='ecg_id')\n",
    "Y.scp_codes = Y.scp_codes.apply(lambda x: ast.literal_eval(x))"
   ]
  },
  {
   "cell_type": "markdown",
   "id": "5a177137",
   "metadata": {},
   "source": [
    "### We need to create records100\\00000\\ folders in order to read multiple signals using Y \n",
    "#### - check filename_lr column of Y"
   ]
  },
  {
   "cell_type": "code",
   "execution_count": 6,
   "id": "6835a456",
   "metadata": {},
   "outputs": [],
   "source": [
    "# Y dataframe stores the address of each signal in the filename_lr column but we need to change the format of the address (for Windows)\n",
    "Y['filename_lr'] = Y['filename_lr'].str.replace('/', '\\\\')"
   ]
  },
  {
   "cell_type": "code",
   "execution_count": 7,
   "id": "819fd9ad",
   "metadata": {},
   "outputs": [],
   "source": [
    "# Load scp_statements.csv for diagnostic aggregation\n",
    "agg_df = pd.read_csv('scp_statements.csv', index_col=0)\n",
    "agg_df = agg_df[agg_df.diagnostic == 1]\n",
    "\n",
    "def aggregate_diagnostic(y_dic):\n",
    "    tmp = []\n",
    "    for key in y_dic.keys():\n",
    "        if key in agg_df.index:\n",
    "            tmp.append(agg_df.loc[key].diagnostic_class)\n",
    "    return list(set(tmp))\n",
    "\n",
    "# apply aggregate_diagnostic function to Y.scp_codes column\n",
    "Y['diagnostic_superclass'] = Y.scp_codes.apply(aggregate_diagnostic)"
   ]
  },
  {
   "cell_type": "markdown",
   "id": "9fc4e4e9",
   "metadata": {},
   "source": [
    "### X array stores the information from multiple signals and only from the first channel (lead)"
   ]
  },
  {
   "cell_type": "code",
   "execution_count": 8,
   "id": "34f8a489",
   "metadata": {},
   "outputs": [
    {
     "name": "stdout",
     "output_type": "stream",
     "text": [
      "Warning: One or more files do not exist. Further missing files will not be reported.\n"
     ]
    }
   ],
   "source": [
    "X, labels = load_raw_data(Y, sampling_rate, os.getcwd(), 'diagnostic_superclass')"
   ]
  },
  {
   "cell_type": "markdown",
   "id": "97232e59",
   "metadata": {},
   "source": [
    "### Finding Unique Dictionaries in the \"scp_codes\" column"
   ]
  },
  {
   "cell_type": "code",
   "execution_count": 9,
   "id": "2955f6df",
   "metadata": {},
   "outputs": [],
   "source": [
    "def remove_zero_values(d):\n",
    "    \"\"\"Remove key-value pairs with 0.0 value from a dictionary.\"\"\"\n",
    "    # since 0.0 likelihood is used for unknown likelihood\n",
    "    return {k: v for k, v in d.items() if v != 0.0}\n",
    "\n",
    "# apply this function to each dictionary in the column\n",
    "Y['scp_codes'] = Y['scp_codes'].apply(remove_zero_values)"
   ]
  },
  {
   "cell_type": "code",
   "execution_count": 10,
   "id": "cba8a915",
   "metadata": {},
   "outputs": [],
   "source": [
    "# Define the set of keys you are looking for\n",
    "searched_keys = {'IMI', 'ASMI', 'ILMI', 'AMI', 'ALMI', 'LMI', 'IPLMI', 'IPMI', 'PMI'}\n",
    "\n",
    "# Function to check if all required keys are in the dictionary\n",
    "def contains_searched_keys(d):\n",
    "    return any(k in d for k in searched_keys)\n",
    "\n",
    "# Create a boolean mask\n",
    "mask = Y['scp_codes'].apply(contains_searched_keys)\n",
    "\n",
    "# Filter the DataFrame\n",
    "MI_df = Y[mask]"
   ]
  },
  {
   "cell_type": "markdown",
   "id": "1ad7d32f",
   "metadata": {},
   "source": [
    "### Filtering SCP codes that implies Myocardial Infarction:"
   ]
  },
  {
   "cell_type": "code",
   "execution_count": 11,
   "id": "af9046b8",
   "metadata": {},
   "outputs": [],
   "source": [
    "scp_df = pd.read_csv('scp_statements.csv', index_col=0)"
   ]
  },
  {
   "cell_type": "code",
   "execution_count": 12,
   "id": "9d24d57b",
   "metadata": {},
   "outputs": [
    {
     "data": {
      "text/html": [
       "<div>\n",
       "<style scoped>\n",
       "    .dataframe tbody tr th:only-of-type {\n",
       "        vertical-align: middle;\n",
       "    }\n",
       "\n",
       "    .dataframe tbody tr th {\n",
       "        vertical-align: top;\n",
       "    }\n",
       "\n",
       "    .dataframe thead th {\n",
       "        text-align: right;\n",
       "    }\n",
       "</style>\n",
       "<table border=\"1\" class=\"dataframe\">\n",
       "  <thead>\n",
       "    <tr style=\"text-align: right;\">\n",
       "      <th></th>\n",
       "      <th>description</th>\n",
       "      <th>diagnostic</th>\n",
       "      <th>form</th>\n",
       "      <th>rhythm</th>\n",
       "      <th>diagnostic_class</th>\n",
       "      <th>diagnostic_subclass</th>\n",
       "      <th>Statement Category</th>\n",
       "      <th>SCP-ECG Statement Description</th>\n",
       "      <th>AHA code</th>\n",
       "      <th>aECG REFID</th>\n",
       "      <th>CDISC Code</th>\n",
       "      <th>DICOM Code</th>\n",
       "    </tr>\n",
       "  </thead>\n",
       "  <tbody>\n",
       "    <tr>\n",
       "      <th>IMI</th>\n",
       "      <td>inferior myocardial infarction</td>\n",
       "      <td>1.0</td>\n",
       "      <td>NaN</td>\n",
       "      <td>NaN</td>\n",
       "      <td>MI</td>\n",
       "      <td>IMI</td>\n",
       "      <td>Myocardial Infarction</td>\n",
       "      <td>inferior myocardial infarction</td>\n",
       "      <td>161.0</td>\n",
       "      <td>NaN</td>\n",
       "      <td>NaN</td>\n",
       "      <td>NaN</td>\n",
       "    </tr>\n",
       "    <tr>\n",
       "      <th>ASMI</th>\n",
       "      <td>anteroseptal myocardial infarction</td>\n",
       "      <td>1.0</td>\n",
       "      <td>NaN</td>\n",
       "      <td>NaN</td>\n",
       "      <td>MI</td>\n",
       "      <td>AMI</td>\n",
       "      <td>Myocardial Infarction</td>\n",
       "      <td>anteroseptal myocardial infarction</td>\n",
       "      <td>165.0</td>\n",
       "      <td>NaN</td>\n",
       "      <td>NaN</td>\n",
       "      <td>NaN</td>\n",
       "    </tr>\n",
       "    <tr>\n",
       "      <th>ILMI</th>\n",
       "      <td>inferolateral myocardial infarction</td>\n",
       "      <td>1.0</td>\n",
       "      <td>NaN</td>\n",
       "      <td>NaN</td>\n",
       "      <td>MI</td>\n",
       "      <td>IMI</td>\n",
       "      <td>Myocardial Infarction</td>\n",
       "      <td>inferolateral myocardial infarction</td>\n",
       "      <td>NaN</td>\n",
       "      <td>NaN</td>\n",
       "      <td>NaN</td>\n",
       "      <td>NaN</td>\n",
       "    </tr>\n",
       "    <tr>\n",
       "      <th>AMI</th>\n",
       "      <td>anterior myocardial infarction</td>\n",
       "      <td>1.0</td>\n",
       "      <td>NaN</td>\n",
       "      <td>NaN</td>\n",
       "      <td>MI</td>\n",
       "      <td>AMI</td>\n",
       "      <td>Myocardial Infarction</td>\n",
       "      <td>anterior myocardial infarction</td>\n",
       "      <td>160.0</td>\n",
       "      <td>NaN</td>\n",
       "      <td>NaN</td>\n",
       "      <td>NaN</td>\n",
       "    </tr>\n",
       "    <tr>\n",
       "      <th>ALMI</th>\n",
       "      <td>anterolateral myocardial infarction</td>\n",
       "      <td>1.0</td>\n",
       "      <td>NaN</td>\n",
       "      <td>NaN</td>\n",
       "      <td>MI</td>\n",
       "      <td>AMI</td>\n",
       "      <td>Myocardial Infarction</td>\n",
       "      <td>anterolateral myocardial infarction</td>\n",
       "      <td>NaN</td>\n",
       "      <td>NaN</td>\n",
       "      <td>NaN</td>\n",
       "      <td>NaN</td>\n",
       "    </tr>\n",
       "    <tr>\n",
       "      <th>LMI</th>\n",
       "      <td>lateral myocardial infarction</td>\n",
       "      <td>1.0</td>\n",
       "      <td>NaN</td>\n",
       "      <td>NaN</td>\n",
       "      <td>MI</td>\n",
       "      <td>LMI</td>\n",
       "      <td>Myocardial Infarction</td>\n",
       "      <td>lateral myocardial infarction</td>\n",
       "      <td>163.0</td>\n",
       "      <td>NaN</td>\n",
       "      <td>NaN</td>\n",
       "      <td>NaN</td>\n",
       "    </tr>\n",
       "    <tr>\n",
       "      <th>IPLMI</th>\n",
       "      <td>inferoposterolateral myocardial infarction</td>\n",
       "      <td>1.0</td>\n",
       "      <td>NaN</td>\n",
       "      <td>NaN</td>\n",
       "      <td>MI</td>\n",
       "      <td>IMI</td>\n",
       "      <td>Myocardial Infarction</td>\n",
       "      <td>inferoposterolateral myocardial infarction</td>\n",
       "      <td>NaN</td>\n",
       "      <td>NaN</td>\n",
       "      <td>NaN</td>\n",
       "      <td>NaN</td>\n",
       "    </tr>\n",
       "    <tr>\n",
       "      <th>IPMI</th>\n",
       "      <td>inferoposterior myocardial infarction</td>\n",
       "      <td>1.0</td>\n",
       "      <td>NaN</td>\n",
       "      <td>NaN</td>\n",
       "      <td>MI</td>\n",
       "      <td>IMI</td>\n",
       "      <td>Myocardial Infarction</td>\n",
       "      <td>inferoposterior myocardial infarction</td>\n",
       "      <td>NaN</td>\n",
       "      <td>NaN</td>\n",
       "      <td>NaN</td>\n",
       "      <td>NaN</td>\n",
       "    </tr>\n",
       "    <tr>\n",
       "      <th>PMI</th>\n",
       "      <td>posterior myocardial infarction</td>\n",
       "      <td>1.0</td>\n",
       "      <td>NaN</td>\n",
       "      <td>NaN</td>\n",
       "      <td>MI</td>\n",
       "      <td>PMI</td>\n",
       "      <td>Myocardial Infarction</td>\n",
       "      <td>posterior myocardial infarction</td>\n",
       "      <td>162.0</td>\n",
       "      <td>NaN</td>\n",
       "      <td>NaN</td>\n",
       "      <td>NaN</td>\n",
       "    </tr>\n",
       "  </tbody>\n",
       "</table>\n",
       "</div>"
      ],
      "text/plain": [
       "                                      description  diagnostic  form  rhythm  \\\n",
       "IMI                inferior myocardial infarction         1.0   NaN     NaN   \n",
       "ASMI           anteroseptal myocardial infarction         1.0   NaN     NaN   \n",
       "ILMI          inferolateral myocardial infarction         1.0   NaN     NaN   \n",
       "AMI                anterior myocardial infarction         1.0   NaN     NaN   \n",
       "ALMI          anterolateral myocardial infarction         1.0   NaN     NaN   \n",
       "LMI                 lateral myocardial infarction         1.0   NaN     NaN   \n",
       "IPLMI  inferoposterolateral myocardial infarction         1.0   NaN     NaN   \n",
       "IPMI        inferoposterior myocardial infarction         1.0   NaN     NaN   \n",
       "PMI               posterior myocardial infarction         1.0   NaN     NaN   \n",
       "\n",
       "      diagnostic_class diagnostic_subclass     Statement Category  \\\n",
       "IMI                 MI                 IMI  Myocardial Infarction   \n",
       "ASMI                MI                 AMI  Myocardial Infarction   \n",
       "ILMI                MI                 IMI  Myocardial Infarction   \n",
       "AMI                 MI                 AMI  Myocardial Infarction   \n",
       "ALMI                MI                 AMI  Myocardial Infarction   \n",
       "LMI                 MI                 LMI  Myocardial Infarction   \n",
       "IPLMI               MI                 IMI  Myocardial Infarction   \n",
       "IPMI                MI                 IMI  Myocardial Infarction   \n",
       "PMI                 MI                 PMI  Myocardial Infarction   \n",
       "\n",
       "                    SCP-ECG Statement Description  AHA code aECG REFID  \\\n",
       "IMI                inferior myocardial infarction     161.0        NaN   \n",
       "ASMI           anteroseptal myocardial infarction     165.0        NaN   \n",
       "ILMI          inferolateral myocardial infarction       NaN        NaN   \n",
       "AMI                anterior myocardial infarction     160.0        NaN   \n",
       "ALMI          anterolateral myocardial infarction       NaN        NaN   \n",
       "LMI                 lateral myocardial infarction     163.0        NaN   \n",
       "IPLMI  inferoposterolateral myocardial infarction       NaN        NaN   \n",
       "IPMI        inferoposterior myocardial infarction       NaN        NaN   \n",
       "PMI               posterior myocardial infarction     162.0        NaN   \n",
       "\n",
       "      CDISC Code DICOM Code  \n",
       "IMI          NaN        NaN  \n",
       "ASMI         NaN        NaN  \n",
       "ILMI         NaN        NaN  \n",
       "AMI          NaN        NaN  \n",
       "ALMI         NaN        NaN  \n",
       "LMI          NaN        NaN  \n",
       "IPLMI        NaN        NaN  \n",
       "IPMI         NaN        NaN  \n",
       "PMI          NaN        NaN  "
      ]
     },
     "execution_count": 12,
     "metadata": {},
     "output_type": "execute_result"
    }
   ],
   "source": [
    "filter_condition = scp_df['Statement Category'] == 'Myocardial Infarction'\n",
    "\n",
    "# Apply the filter condition to the DataFrame\n",
    "scp_filtered = scp_df[filter_condition]\n",
    "scp_filtered"
   ]
  },
  {
   "cell_type": "markdown",
   "id": "ad96eca0",
   "metadata": {},
   "source": [
    "### Filtering rows to choose the training set"
   ]
  },
  {
   "cell_type": "code",
   "execution_count": 13,
   "id": "4e3e7c77",
   "metadata": {},
   "outputs": [],
   "source": [
    "min_age = 20\n",
    "max_age = 60\n",
    "\n",
    "age_mask = (MI_df['age'] >= min_age) & (MI_df['age'] <= max_age)\n",
    "filtered_df = MI_df[age_mask]\n",
    "\n",
    "columns_to_remove = ['baseline_drift', 'burst_noise', 'static_noise', 'electrodes_problems', 'pacemaker', 'extra_beats', 'nurse', 'site']\n",
    "\n",
    "# remove the specified columns\n",
    "filtered_df = filtered_df.drop(columns=columns_to_remove)\n",
    "\n",
    "# boolean mask to filter the dataframe by \"age\", \"human validation\", and \"device\"\n",
    "\n",
    "filtered_df = filtered_df[filtered_df.validated_by_human == True]\n",
    "filtered_df = filtered_df[filtered_df.device == 'CS100    3']\n",
    "strat_fold_mask = (filtered_df['strat_fold'] < 9)\n",
    "filtered_df = filtered_df[strat_fold_mask]\n",
    "\n",
    "# filtered_df[filtered_df.sex == 1].filename_lr"
   ]
  },
  {
   "cell_type": "markdown",
   "id": "afd843c0",
   "metadata": {},
   "source": [
    "### Sağlıklı insanların Verisi\n",
    "#### - bu kişilere ait dosyaları veri setinden indireceğiz."
   ]
  },
  {
   "cell_type": "code",
   "execution_count": 14,
   "id": "89a0af40",
   "metadata": {},
   "outputs": [],
   "source": [
    "norm_key = {'NORM'}\n",
    "\n",
    "# Function to check if all required keys are in the dictionary\n",
    "def contains_required_keys(d):\n",
    "    return norm_key.issubset(d.keys())\n",
    "\n",
    "# Create a boolean mask\n",
    "mask = Y['scp_codes'].apply(contains_required_keys)\n",
    "\n",
    "# Filter the DataFrame\n",
    "Y_norm = Y[mask]"
   ]
  },
  {
   "cell_type": "code",
   "execution_count": 15,
   "id": "e343de96",
   "metadata": {},
   "outputs": [],
   "source": [
    "norm_age_mask = (Y_norm['age'] >= min_age) & (Y_norm['age'] <= max_age)\n",
    "norm_filtered = Y_norm[norm_age_mask]\n",
    "\n",
    "# remove the specified columns\n",
    "norm_filtered = norm_filtered.drop(columns=columns_to_remove)\n",
    "\n",
    "# boolean mask to filter the dataframe by \"age\", \"human validation\", and \"device\"\n",
    "\n",
    "norm_filtered = norm_filtered[norm_filtered.validated_by_human == True]\n",
    "norm_filtered = norm_filtered[norm_filtered.device == 'CS100    3']\n",
    "strat_fold_mask = (norm_filtered['strat_fold'] < 9)\n",
    "norm_filtered = norm_filtered[strat_fold_mask]"
   ]
  },
  {
   "cell_type": "markdown",
   "id": "febf5e6e",
   "metadata": {},
   "source": [
    "## Pre-processing"
   ]
  },
  {
   "cell_type": "markdown",
   "id": "93834372",
   "metadata": {},
   "source": [
    "### Pan Tompkins Algorithm:"
   ]
  },
  {
   "cell_type": "code",
   "execution_count": 16,
   "id": "f09236dc",
   "metadata": {},
   "outputs": [],
   "source": [
    "def bandpass_filter(data, lowcut, highcut, fs, order=5):\n",
    "    n_signals, n_samples, _ = data.shape\n",
    "    filtered_data = np.zeros_like(data)\n",
    "\n",
    "    for i in range(n_signals):\n",
    "        nyq = 0.5 * fs\n",
    "        low = lowcut / nyq\n",
    "        high = highcut / nyq\n",
    "        b, a = butter(order, [low, high], btype='band')\n",
    "\n",
    "        # apply the filter to each signal individually\n",
    "        filtered_data[i, :, 0] = filtfilt(b, a, data[i, :, 0]) \n",
    "        \n",
    "        # in our case X will be the input array \n",
    "        # X stores multiple signals therefore we need to index 'data' argument as data[i, :, 0]\n",
    "    \n",
    "    return filtered_data\n",
    "fs =100\n",
    "filtered_signals = bandpass_filter(X, 5, 15, fs)"
   ]
  },
  {
   "cell_type": "code",
   "execution_count": 17,
   "id": "dd0686c6",
   "metadata": {},
   "outputs": [],
   "source": [
    "def plot_signals(signals_array, r_peaks=None):\n",
    "    \n",
    "    # r_peaks is an optional argument if it is not provided the function plots only the function.\n",
    "    \n",
    "    n_signals, n_samples, _ = signals_array.shape\n",
    "\n",
    "    # Create a figure with subplots\n",
    "    fig, axes = plt.subplots(n_signals, 1, figsize=(10, 20))  # Adjust the size as needed\n",
    "\n",
    "    for i in range(n_signals):\n",
    "        # Plot each signal in a separate subplot\n",
    "        axes[i].plot(signals_array[i, :, 0])  # Selecting the i-th signal\n",
    "\n",
    "        # Plot R-peaks if provided\n",
    "        if r_peaks is not None:\n",
    "            axes[i].scatter(r_peaks[i], signals_array[i, r_peaks[i], 0], color='red')  # Plot R-peaks\n",
    "\n",
    "        axes[i].set_title(f'Signal {i+1}')\n",
    "        axes[i].set_xlabel('Sample Number')\n",
    "        axes[i].set_ylabel('Amplitude')\n",
    "\n",
    "    plt.tight_layout()\n",
    "    plt.show()"
   ]
  },
  {
   "cell_type": "markdown",
   "id": "62a5b0e7",
   "metadata": {},
   "source": [
    "<span style=\"color: red; font-size: 150%;\">Signal Before Bandpass Filter</span>"
   ]
  },
  {
   "cell_type": "code",
   "execution_count": null,
   "id": "d2fedab4",
   "metadata": {},
   "outputs": [],
   "source": [
    "plt.figure(figsize=(12, 6))\n",
    "plt.plot(X[1, :, 0])\n",
    "plt.show()"
   ]
  },
  {
   "cell_type": "markdown",
   "id": "0c293029",
   "metadata": {},
   "source": [
    "<span style=\"color: red; font-size: 150%;\">Effect of the Bandpass Filter</span>"
   ]
  },
  {
   "cell_type": "code",
   "execution_count": null,
   "id": "9d2dda78",
   "metadata": {},
   "outputs": [],
   "source": [
    "plt.figure(figsize=(12, 6))\n",
    "plt.plot(filtered_signals[1, :50, 0])\n",
    "plt.show()"
   ]
  },
  {
   "cell_type": "markdown",
   "id": "7d3db7fe",
   "metadata": {},
   "source": [
    "### Applying the remaining steps of the Pan-Tompkins Algorithm"
   ]
  },
  {
   "cell_type": "code",
   "execution_count": 18,
   "id": "e0628533",
   "metadata": {},
   "outputs": [],
   "source": [
    "# Initialize arrays for each step\n",
    "derivative = np.zeros_like(filtered_signals)\n",
    "squared = np.zeros_like(filtered_signals)\n",
    "integrated = np.zeros_like(filtered_signals)\n",
    "\n",
    "n_signals, n_samples, _ = filtered_signals.shape\n",
    "window_size = int(0.150 * fs)  # 150 ms window\n",
    "\n",
    "for i in range(n_signals):\n",
    "    # Derivative\n",
    "    derivative[i, :-1, 0] = np.diff(filtered_signals[i, :, 0])\n",
    "\n",
    "    # Squaring\n",
    "    squared[i, :, 0] = np.square(derivative[i, :, 0])\n",
    "\n",
    "    # Moving window integration\n",
    "    integrated[i, :, 0] = np.convolve(squared[i, :, 0], np.ones(window_size), mode='same')\n"
   ]
  },
  {
   "cell_type": "markdown",
   "id": "e152004b",
   "metadata": {},
   "source": [
    "<span style=\"color: red; font-size: 150%;\">$\\text{After applying Derivative Filter, Squaring, Integration}$</span>"
   ]
  },
  {
   "cell_type": "code",
   "execution_count": null,
   "id": "beecbf3f",
   "metadata": {},
   "outputs": [],
   "source": [
    "plt.figure(figsize=(12, 6))\n",
    "plt.plot(integrated[1, :, 0])\n",
    "plt.show()"
   ]
  },
  {
   "cell_type": "markdown",
   "id": "06506bed",
   "metadata": {},
   "source": [
    "### Peak Detection"
   ]
  },
  {
   "cell_type": "code",
   "execution_count": 19,
   "id": "c907b7f8",
   "metadata": {},
   "outputs": [],
   "source": [
    "# initialize a list to store the R-peaks for each signal\n",
    "r_peaks_all_signals = []\n",
    "\n",
    "for i in range(n_signals):\n",
    "    # find peaks on the integrated signal\n",
    "    peaks, _ = find_peaks(integrated[i, :, 0], height=np.max(integrated[i, :, 0])*0.5, distance=fs*0.6)\n",
    "\n",
    "    # Append the detected peaks to the list\n",
    "    r_peaks_all_signals.append(peaks)"
   ]
  },
  {
   "cell_type": "code",
   "execution_count": 20,
   "id": "5ac52985",
   "metadata": {},
   "outputs": [],
   "source": [
    "peak_counts = [len(sublist) for sublist in r_peaks_all_signals]"
   ]
  },
  {
   "cell_type": "code",
   "execution_count": null,
   "id": "411911d3",
   "metadata": {},
   "outputs": [],
   "source": [
    "# plot_signals(filtered_signals, r_peaks_all_signals)"
   ]
  },
  {
   "cell_type": "markdown",
   "id": "68504f0c",
   "metadata": {},
   "source": [
    "### Extracting ST Segments"
   ]
  },
  {
   "cell_type": "code",
   "execution_count": 21,
   "id": "770af834",
   "metadata": {},
   "outputs": [],
   "source": [
    "def extract_st_segments(ecg_signals, r_peaks_all, fs, st_duration=0.08, st_start_offset=0.06):\n",
    "    \"\"\"\n",
    "    Extracts the ST segments from multiple ECG signals.\n",
    "\n",
    "    :param ecg_signals: List of ECG signals, each being a 1D numpy array.\n",
    "    :param r_peaks_all: 2D list of R-peaks indices for each ECG signal.\n",
    "    :param fs: Sampling frequency of the ECG signals.\n",
    "    :param st_duration: Duration of the ST segment in seconds (default is 80 ms).\n",
    "    :param st_start_offset: Offset from the R-peak to start of ST segment in seconds (default is 60 ms).\n",
    "    :return: 2D list of ST segment mean values for each individual.\n",
    "    \"\"\"\n",
    "\n",
    "    all_st_segments = []\n",
    "\n",
    "    for i, ecg_signal in enumerate(ecg_signals):\n",
    "        st_segments = []\n",
    "        for r_peak in r_peaks_all[i]:\n",
    "            # calculate start and end indices of the ST segment\n",
    "            st_start = int(r_peak + st_start_offset * fs)\n",
    "            st_end = int(st_start + st_duration * fs)\n",
    "\n",
    "            # ensure that the end index does not exceed the signal length\n",
    "            if st_end > len(ecg_signal):\n",
    "                continue\n",
    "\n",
    "            # extracting the ST segment\n",
    "            st_segment = ecg_signal[st_start:st_end]\n",
    "\n",
    "            # calculate a feature of the ST segment, e.g., mean amplitude\n",
    "            st_feature = np.mean(st_segment)\n",
    "            st_segments.append(st_feature)\n",
    "        \n",
    "        all_st_segments.append(st_segments)\n",
    "\n",
    "    return all_st_segments\n"
   ]
  },
  {
   "cell_type": "markdown",
   "id": "e5b87c4c",
   "metadata": {},
   "source": [
    "<span style=\"color: blue; font-size: 120%;\">$\\text{We extract multiple ST segment mean value for each subject since there are multiple ST segments in each ECG signal}$</span>"
   ]
  },
  {
   "cell_type": "code",
   "execution_count": 22,
   "id": "b6f0ba1c",
   "metadata": {},
   "outputs": [],
   "source": [
    "st_segment_features =[]\n",
    "for i in range(n_signals):\n",
    "    # find peaks on the integrated signal\n",
    "    st_segment_feature = extract_st_segments(filtered_signals, r_peaks_all_signals, 100)\n",
    "\n",
    "    # Append the detected peaks to the list\n",
    "    st_segment_features.append(st_segment_feature)"
   ]
  },
  {
   "cell_type": "code",
   "execution_count": null,
   "id": "95c873b0",
   "metadata": {},
   "outputs": [],
   "source": [
    "st_segment_features"
   ]
  },
  {
   "cell_type": "code",
   "execution_count": 36,
   "id": "fabcdbb8",
   "metadata": {},
   "outputs": [],
   "source": [
    "def calculate_feature_mean(input_list, feature_name):\n",
    "    feature_averages = []\n",
    "\n",
    "    # Iterate through qrs_areas and find the size of each sublist\n",
    "    for sublist in input_list:\n",
    "        feature_average = sum(sublist) / len(sublist) if len(sublist) > 0 else 0  # Calculate the average\n",
    "        feature_averages.append(feature_average)\n",
    "\n",
    "    #for i, average in enumerate(feature_averages):\n",
    "        #print(f\"Average of {feature_name} in ECG {i + 1}: {average}\")\n",
    "        \n",
    "    return feature_averages"
   ]
  },
  {
   "cell_type": "code",
   "execution_count": null,
   "id": "8ae754f1",
   "metadata": {},
   "outputs": [],
   "source": [
    "#calculate_feature_mean(st_segment_features, 'ST Segments')"
   ]
  },
  {
   "cell_type": "markdown",
   "id": "22b13fcb",
   "metadata": {},
   "source": [
    "### Extracting the QRS Features"
   ]
  },
  {
   "cell_type": "code",
   "execution_count": 24,
   "id": "544827f3",
   "metadata": {},
   "outputs": [],
   "source": [
    "def find_q_point(signal, r_peak, window_size):\n",
    "    for i in range(r_peak, r_peak - window_size, -1):\n",
    "        if i == 0:\n",
    "            return 0\n",
    "        if signal[i] > signal[i-1]:  # detecting the change in slope\n",
    "            return i\n",
    "    return r_peak - window_size\n",
    "\n",
    "def find_s_point(signal, r_peak, window_size):\n",
    "    for i in range(r_peak, r_peak + window_size):\n",
    "        if i == len(signal) - 1:\n",
    "            return len(signal) - 1\n",
    "        if signal[i] > signal[i+1]:  # detecting the change in slope\n",
    "            return i\n",
    "    return r_peak + window_size\n",
    "\n",
    "def extract_qrs_features(ecg_signals, r_peaks, window_size=20):  # window_size depends on fs=100Hz\n",
    "    qrs_durations = []\n",
    "    qrs_areas =[]\n",
    "    for i, signal in enumerate(ecg_signals):\n",
    "        qrs_duration = []\n",
    "        qrs_area=[]\n",
    "        for r_peak in r_peaks[i]:\n",
    "            q_point = find_q_point(signal, r_peak, window_size)\n",
    "            s_point = find_s_point(signal, r_peak, window_size)\n",
    "\n",
    "            qrs_dur = s_point - q_point\n",
    "\n",
    "            # Area under the curve\n",
    "            qrs_area_value = np.trapz(signal[q_point:s_point+1], dx=1, axis=0)\n",
    "            \n",
    "            qrs_duration.append(qrs_dur)\n",
    "            qrs_area.append(qrs_area_value)\n",
    "            \n",
    "        qrs_durations.append(qrs_duration)\n",
    "        qrs_areas.append(qrs_area)\n",
    "    return qrs_durations, qrs_areas"
   ]
  },
  {
   "cell_type": "markdown",
   "id": "87510ea1",
   "metadata": {},
   "source": [
    "#### not sure if the qrs_areas are correct"
   ]
  },
  {
   "cell_type": "code",
   "execution_count": 25,
   "id": "2cdf8df5",
   "metadata": {},
   "outputs": [],
   "source": [
    "qrs_durations, qrs_areas = extract_qrs_features(filtered_signals, r_peaks_all_signals)  # window size is 20 samples"
   ]
  },
  {
   "cell_type": "markdown",
   "id": "77fd9351",
   "metadata": {},
   "source": [
    "### QRS durations for the each R peak detected in the ECG signal for all subjects:"
   ]
  },
  {
   "cell_type": "code",
   "execution_count": 37,
   "id": "2955c873",
   "metadata": {},
   "outputs": [],
   "source": [
    "qrs_dur_averages=calculate_feature_mean(qrs_durations, 'QRS Durations')"
   ]
  },
  {
   "cell_type": "code",
   "execution_count": 38,
   "id": "7c861a56",
   "metadata": {},
   "outputs": [],
   "source": [
    "qrs_area_averages=calculate_feature_mean(qrs_areas, 'QRS Areas')"
   ]
  },
  {
   "cell_type": "markdown",
   "id": "8ba8bd7b",
   "metadata": {},
   "source": [
    "### Machine Learning:"
   ]
  },
  {
   "cell_type": "code",
   "execution_count": 28,
   "id": "dc15aa76",
   "metadata": {},
   "outputs": [],
   "source": [
    "ml_df = pd.DataFrame({'QRS Duration Average':  qrs_dur_averages})\n",
    "ml_df['QRS Area Averages'] = qrs_area_averages\n",
    "ml_df['Number of R Peaks'] = peak_counts\n",
    "ml_df['labels'] = labels"
   ]
  },
  {
   "cell_type": "code",
   "execution_count": 29,
   "id": "aad22136",
   "metadata": {},
   "outputs": [],
   "source": [
    "def modify_list(lst):\n",
    "    if 'MI' in lst:\n",
    "        return ['MI']\n",
    "    else:\n",
    "        return lst\n",
    "\n",
    "# apply the function to the column\n",
    "ml_df['labels'] = ml_df['labels'].apply(modify_list)"
   ]
  },
  {
   "cell_type": "code",
   "execution_count": 31,
   "id": "03a81fb1",
   "metadata": {},
   "outputs": [],
   "source": [
    "ml_df['labels_str'] = ml_df['labels'].apply(lambda x: ', '.join(x))\n",
    "\n",
    "# Apply the function to create a new column\n",
    "ml_df = ml_df.drop('labels', axis=1)"
   ]
  },
  {
   "cell_type": "code",
   "execution_count": 32,
   "id": "d34657b8",
   "metadata": {},
   "outputs": [
    {
     "data": {
      "text/html": [
       "<div>\n",
       "<style scoped>\n",
       "    .dataframe tbody tr th:only-of-type {\n",
       "        vertical-align: middle;\n",
       "    }\n",
       "\n",
       "    .dataframe tbody tr th {\n",
       "        vertical-align: top;\n",
       "    }\n",
       "\n",
       "    .dataframe thead th {\n",
       "        text-align: right;\n",
       "    }\n",
       "</style>\n",
       "<table border=\"1\" class=\"dataframe\">\n",
       "  <thead>\n",
       "    <tr style=\"text-align: right;\">\n",
       "      <th></th>\n",
       "      <th>QRS Duration Average</th>\n",
       "      <th>QRS Area Averages</th>\n",
       "      <th>Number of R Peaks</th>\n",
       "      <th>labels_str</th>\n",
       "    </tr>\n",
       "  </thead>\n",
       "  <tbody>\n",
       "    <tr>\n",
       "      <th>0</th>\n",
       "      <td>0.666667</td>\n",
       "      <td>[0.24074308505092143]</td>\n",
       "      <td>15</td>\n",
       "      <td>NORM</td>\n",
       "    </tr>\n",
       "    <tr>\n",
       "      <th>1</th>\n",
       "      <td>1.384615</td>\n",
       "      <td>[0.24560156069062808]</td>\n",
       "      <td>13</td>\n",
       "      <td>NORM</td>\n",
       "    </tr>\n",
       "    <tr>\n",
       "      <th>2</th>\n",
       "      <td>0.555556</td>\n",
       "      <td>[0.11581294733639089]</td>\n",
       "      <td>9</td>\n",
       "      <td>MI</td>\n",
       "    </tr>\n",
       "    <tr>\n",
       "      <th>3</th>\n",
       "      <td>0.461538</td>\n",
       "      <td>[0.13536620194997873]</td>\n",
       "      <td>13</td>\n",
       "      <td>MI</td>\n",
       "    </tr>\n",
       "    <tr>\n",
       "      <th>4</th>\n",
       "      <td>0.769231</td>\n",
       "      <td>[0.27284155432941243]</td>\n",
       "      <td>13</td>\n",
       "      <td>NORM</td>\n",
       "    </tr>\n",
       "    <tr>\n",
       "      <th>5</th>\n",
       "      <td>1.166667</td>\n",
       "      <td>[0.08496074719262092]</td>\n",
       "      <td>12</td>\n",
       "      <td>NORM</td>\n",
       "    </tr>\n",
       "    <tr>\n",
       "      <th>6</th>\n",
       "      <td>0.076923</td>\n",
       "      <td>[0.02772574518010367]</td>\n",
       "      <td>13</td>\n",
       "      <td>NORM</td>\n",
       "    </tr>\n",
       "    <tr>\n",
       "      <th>7</th>\n",
       "      <td>5.071429</td>\n",
       "      <td>[0.026019749864078533]</td>\n",
       "      <td>14</td>\n",
       "      <td>MI</td>\n",
       "    </tr>\n",
       "    <tr>\n",
       "      <th>8</th>\n",
       "      <td>0.375000</td>\n",
       "      <td>[0.1068654445838938]</td>\n",
       "      <td>8</td>\n",
       "      <td>MI</td>\n",
       "    </tr>\n",
       "    <tr>\n",
       "      <th>9</th>\n",
       "      <td>1.500000</td>\n",
       "      <td>[1.0497622197757503]</td>\n",
       "      <td>2</td>\n",
       "      <td>MI</td>\n",
       "    </tr>\n",
       "    <tr>\n",
       "      <th>10</th>\n",
       "      <td>5.666667</td>\n",
       "      <td>[-0.04229743783043014]</td>\n",
       "      <td>12</td>\n",
       "      <td>MI</td>\n",
       "    </tr>\n",
       "    <tr>\n",
       "      <th>11</th>\n",
       "      <td>1.111111</td>\n",
       "      <td>[0.2856233948416317]</td>\n",
       "      <td>9</td>\n",
       "      <td>NORM</td>\n",
       "    </tr>\n",
       "    <tr>\n",
       "      <th>12</th>\n",
       "      <td>3.000000</td>\n",
       "      <td>[1.0589666409155643]</td>\n",
       "      <td>2</td>\n",
       "      <td>MI</td>\n",
       "    </tr>\n",
       "    <tr>\n",
       "      <th>13</th>\n",
       "      <td>2.545455</td>\n",
       "      <td>[0.2274392448820321]</td>\n",
       "      <td>11</td>\n",
       "      <td>NORM</td>\n",
       "    </tr>\n",
       "    <tr>\n",
       "      <th>14</th>\n",
       "      <td>0.583333</td>\n",
       "      <td>[0.16830102033892355]</td>\n",
       "      <td>12</td>\n",
       "      <td>MI</td>\n",
       "    </tr>\n",
       "    <tr>\n",
       "      <th>15</th>\n",
       "      <td>0.750000</td>\n",
       "      <td>[0.320141348739858]</td>\n",
       "      <td>12</td>\n",
       "      <td>MI</td>\n",
       "    </tr>\n",
       "    <tr>\n",
       "      <th>16</th>\n",
       "      <td>0.000000</td>\n",
       "      <td>[0.0]</td>\n",
       "      <td>9</td>\n",
       "      <td>NORM</td>\n",
       "    </tr>\n",
       "    <tr>\n",
       "      <th>17</th>\n",
       "      <td>2.500000</td>\n",
       "      <td>[0.1223476651687363]</td>\n",
       "      <td>2</td>\n",
       "      <td>MI</td>\n",
       "    </tr>\n",
       "    <tr>\n",
       "      <th>18</th>\n",
       "      <td>0.200000</td>\n",
       "      <td>[0.055297154852866]</td>\n",
       "      <td>10</td>\n",
       "      <td>NORM</td>\n",
       "    </tr>\n",
       "    <tr>\n",
       "      <th>19</th>\n",
       "      <td>0.363636</td>\n",
       "      <td>[0.10446767675337684]</td>\n",
       "      <td>11</td>\n",
       "      <td>MI</td>\n",
       "    </tr>\n",
       "    <tr>\n",
       "      <th>20</th>\n",
       "      <td>0.636364</td>\n",
       "      <td>[0.3546991780764875]</td>\n",
       "      <td>11</td>\n",
       "      <td>MI</td>\n",
       "    </tr>\n",
       "    <tr>\n",
       "      <th>21</th>\n",
       "      <td>0.555556</td>\n",
       "      <td>[0.05475100635924798]</td>\n",
       "      <td>9</td>\n",
       "      <td>MI</td>\n",
       "    </tr>\n",
       "    <tr>\n",
       "      <th>22</th>\n",
       "      <td>0.166667</td>\n",
       "      <td>[0.06074813120589362]</td>\n",
       "      <td>12</td>\n",
       "      <td>NORM</td>\n",
       "    </tr>\n",
       "    <tr>\n",
       "      <th>23</th>\n",
       "      <td>0.200000</td>\n",
       "      <td>[0.06749323680001104]</td>\n",
       "      <td>10</td>\n",
       "      <td>NORM</td>\n",
       "    </tr>\n",
       "    <tr>\n",
       "      <th>24</th>\n",
       "      <td>0.500000</td>\n",
       "      <td>[0.07127254755848392]</td>\n",
       "      <td>10</td>\n",
       "      <td>MI</td>\n",
       "    </tr>\n",
       "    <tr>\n",
       "      <th>25</th>\n",
       "      <td>5.166667</td>\n",
       "      <td>[0.10930226540337352]</td>\n",
       "      <td>12</td>\n",
       "      <td>MI</td>\n",
       "    </tr>\n",
       "    <tr>\n",
       "      <th>26</th>\n",
       "      <td>0.100000</td>\n",
       "      <td>[0.04204555149341923]</td>\n",
       "      <td>10</td>\n",
       "      <td>NORM</td>\n",
       "    </tr>\n",
       "    <tr>\n",
       "      <th>27</th>\n",
       "      <td>1.000000</td>\n",
       "      <td>[0.23186551627204194]</td>\n",
       "      <td>9</td>\n",
       "      <td>NORM</td>\n",
       "    </tr>\n",
       "    <tr>\n",
       "      <th>28</th>\n",
       "      <td>0.500000</td>\n",
       "      <td>[0.2031411447638058]</td>\n",
       "      <td>8</td>\n",
       "      <td>NORM</td>\n",
       "    </tr>\n",
       "    <tr>\n",
       "      <th>29</th>\n",
       "      <td>0.700000</td>\n",
       "      <td>[0.10338896276909218]</td>\n",
       "      <td>10</td>\n",
       "      <td>NORM</td>\n",
       "    </tr>\n",
       "    <tr>\n",
       "      <th>30</th>\n",
       "      <td>1.000000</td>\n",
       "      <td>[0.0588779612702933]</td>\n",
       "      <td>1</td>\n",
       "      <td>MI</td>\n",
       "    </tr>\n",
       "    <tr>\n",
       "      <th>31</th>\n",
       "      <td>0.785714</td>\n",
       "      <td>[0.32065185634947807]</td>\n",
       "      <td>14</td>\n",
       "      <td>MI</td>\n",
       "    </tr>\n",
       "  </tbody>\n",
       "</table>\n",
       "</div>"
      ],
      "text/plain": [
       "    QRS Duration Average       QRS Area Averages  Number of R Peaks labels_str\n",
       "0               0.666667   [0.24074308505092143]                 15       NORM\n",
       "1               1.384615   [0.24560156069062808]                 13       NORM\n",
       "2               0.555556   [0.11581294733639089]                  9         MI\n",
       "3               0.461538   [0.13536620194997873]                 13         MI\n",
       "4               0.769231   [0.27284155432941243]                 13       NORM\n",
       "5               1.166667   [0.08496074719262092]                 12       NORM\n",
       "6               0.076923   [0.02772574518010367]                 13       NORM\n",
       "7               5.071429  [0.026019749864078533]                 14         MI\n",
       "8               0.375000    [0.1068654445838938]                  8         MI\n",
       "9               1.500000    [1.0497622197757503]                  2         MI\n",
       "10              5.666667  [-0.04229743783043014]                 12         MI\n",
       "11              1.111111    [0.2856233948416317]                  9       NORM\n",
       "12              3.000000    [1.0589666409155643]                  2         MI\n",
       "13              2.545455    [0.2274392448820321]                 11       NORM\n",
       "14              0.583333   [0.16830102033892355]                 12         MI\n",
       "15              0.750000     [0.320141348739858]                 12         MI\n",
       "16              0.000000                   [0.0]                  9       NORM\n",
       "17              2.500000    [0.1223476651687363]                  2         MI\n",
       "18              0.200000     [0.055297154852866]                 10       NORM\n",
       "19              0.363636   [0.10446767675337684]                 11         MI\n",
       "20              0.636364    [0.3546991780764875]                 11         MI\n",
       "21              0.555556   [0.05475100635924798]                  9         MI\n",
       "22              0.166667   [0.06074813120589362]                 12       NORM\n",
       "23              0.200000   [0.06749323680001104]                 10       NORM\n",
       "24              0.500000   [0.07127254755848392]                 10         MI\n",
       "25              5.166667   [0.10930226540337352]                 12         MI\n",
       "26              0.100000   [0.04204555149341923]                 10       NORM\n",
       "27              1.000000   [0.23186551627204194]                  9       NORM\n",
       "28              0.500000    [0.2031411447638058]                  8       NORM\n",
       "29              0.700000   [0.10338896276909218]                 10       NORM\n",
       "30              1.000000    [0.0588779612702933]                  1         MI\n",
       "31              0.785714   [0.32065185634947807]                 14         MI"
      ]
     },
     "execution_count": 32,
     "metadata": {},
     "output_type": "execute_result"
    }
   ],
   "source": [
    "ml_df"
   ]
  },
  {
   "cell_type": "code",
   "execution_count": 33,
   "id": "e8e228f3",
   "metadata": {},
   "outputs": [
    {
     "data": {
      "text/html": [
       "<style>#sk-container-id-1 {color: black;}#sk-container-id-1 pre{padding: 0;}#sk-container-id-1 div.sk-toggleable {background-color: white;}#sk-container-id-1 label.sk-toggleable__label {cursor: pointer;display: block;width: 100%;margin-bottom: 0;padding: 0.3em;box-sizing: border-box;text-align: center;}#sk-container-id-1 label.sk-toggleable__label-arrow:before {content: \"▸\";float: left;margin-right: 0.25em;color: #696969;}#sk-container-id-1 label.sk-toggleable__label-arrow:hover:before {color: black;}#sk-container-id-1 div.sk-estimator:hover label.sk-toggleable__label-arrow:before {color: black;}#sk-container-id-1 div.sk-toggleable__content {max-height: 0;max-width: 0;overflow: hidden;text-align: left;background-color: #f0f8ff;}#sk-container-id-1 div.sk-toggleable__content pre {margin: 0.2em;color: black;border-radius: 0.25em;background-color: #f0f8ff;}#sk-container-id-1 input.sk-toggleable__control:checked~div.sk-toggleable__content {max-height: 200px;max-width: 100%;overflow: auto;}#sk-container-id-1 input.sk-toggleable__control:checked~label.sk-toggleable__label-arrow:before {content: \"▾\";}#sk-container-id-1 div.sk-estimator input.sk-toggleable__control:checked~label.sk-toggleable__label {background-color: #d4ebff;}#sk-container-id-1 div.sk-label input.sk-toggleable__control:checked~label.sk-toggleable__label {background-color: #d4ebff;}#sk-container-id-1 input.sk-hidden--visually {border: 0;clip: rect(1px 1px 1px 1px);clip: rect(1px, 1px, 1px, 1px);height: 1px;margin: -1px;overflow: hidden;padding: 0;position: absolute;width: 1px;}#sk-container-id-1 div.sk-estimator {font-family: monospace;background-color: #f0f8ff;border: 1px dotted black;border-radius: 0.25em;box-sizing: border-box;margin-bottom: 0.5em;}#sk-container-id-1 div.sk-estimator:hover {background-color: #d4ebff;}#sk-container-id-1 div.sk-parallel-item::after {content: \"\";width: 100%;border-bottom: 1px solid gray;flex-grow: 1;}#sk-container-id-1 div.sk-label:hover label.sk-toggleable__label {background-color: #d4ebff;}#sk-container-id-1 div.sk-serial::before {content: \"\";position: absolute;border-left: 1px solid gray;box-sizing: border-box;top: 0;bottom: 0;left: 50%;z-index: 0;}#sk-container-id-1 div.sk-serial {display: flex;flex-direction: column;align-items: center;background-color: white;padding-right: 0.2em;padding-left: 0.2em;position: relative;}#sk-container-id-1 div.sk-item {position: relative;z-index: 1;}#sk-container-id-1 div.sk-parallel {display: flex;align-items: stretch;justify-content: center;background-color: white;position: relative;}#sk-container-id-1 div.sk-item::before, #sk-container-id-1 div.sk-parallel-item::before {content: \"\";position: absolute;border-left: 1px solid gray;box-sizing: border-box;top: 0;bottom: 0;left: 50%;z-index: -1;}#sk-container-id-1 div.sk-parallel-item {display: flex;flex-direction: column;z-index: 1;position: relative;background-color: white;}#sk-container-id-1 div.sk-parallel-item:first-child::after {align-self: flex-end;width: 50%;}#sk-container-id-1 div.sk-parallel-item:last-child::after {align-self: flex-start;width: 50%;}#sk-container-id-1 div.sk-parallel-item:only-child::after {width: 0;}#sk-container-id-1 div.sk-dashed-wrapped {border: 1px dashed gray;margin: 0 0.4em 0.5em 0.4em;box-sizing: border-box;padding-bottom: 0.4em;background-color: white;}#sk-container-id-1 div.sk-label label {font-family: monospace;font-weight: bold;display: inline-block;line-height: 1.2em;}#sk-container-id-1 div.sk-label-container {text-align: center;}#sk-container-id-1 div.sk-container {/* jupyter's `normalize.less` sets `[hidden] { display: none; }` but bootstrap.min.css set `[hidden] { display: none !important; }` so we also need the `!important` here to be able to override the default hidden behavior on the sphinx rendered scikit-learn.org. See: https://github.com/scikit-learn/scikit-learn/issues/21755 */display: inline-block !important;position: relative;}#sk-container-id-1 div.sk-text-repr-fallback {display: none;}</style><div id=\"sk-container-id-1\" class=\"sk-top-container\"><div class=\"sk-text-repr-fallback\"><pre>LogisticRegression()</pre><b>In a Jupyter environment, please rerun this cell to show the HTML representation or trust the notebook. <br />On GitHub, the HTML representation is unable to render, please try loading this page with nbviewer.org.</b></div><div class=\"sk-container\" hidden><div class=\"sk-item\"><div class=\"sk-estimator sk-toggleable\"><input class=\"sk-toggleable__control sk-hidden--visually\" id=\"sk-estimator-id-1\" type=\"checkbox\" checked><label for=\"sk-estimator-id-1\" class=\"sk-toggleable__label sk-toggleable__label-arrow\">LogisticRegression</label><div class=\"sk-toggleable__content\"><pre>LogisticRegression()</pre></div></div></div></div></div>"
      ],
      "text/plain": [
       "LogisticRegression()"
      ]
     },
     "execution_count": 33,
     "metadata": {},
     "output_type": "execute_result"
    }
   ],
   "source": [
    "# Load your data here\n",
    "features = ml_df.drop('labels_str', axis=1)  # Features\n",
    "labels= ml_df['labels_str']  # Labels\n",
    "\n",
    "# Split the dataset into training and testing sets\n",
    "X_train, X_test, y_train, y_test = train_test_split(features, labels, test_size=0.3, random_state=3)\n",
    "\n",
    "# Create a logistic regression model\n",
    "model_1 = LogisticRegression()\n",
    "\n",
    "# Train the model\n",
    "model_1.fit(X_train, y_train)"
   ]
  },
  {
   "cell_type": "code",
   "execution_count": 34,
   "id": "fed8c790",
   "metadata": {},
   "outputs": [
    {
     "name": "stdout",
     "output_type": "stream",
     "text": [
      "Model Accuracy: 0.5\n"
     ]
    }
   ],
   "source": [
    "# Predict on the test set\n",
    "predictions = model_1.predict(X_test)\n",
    "\n",
    "# Evaluate the model\n",
    "accuracy = accuracy_score(y_test, predictions)\n",
    "print(f\"Model Accuracy: {accuracy}\")"
   ]
  },
  {
   "cell_type": "code",
   "execution_count": 35,
   "id": "560c57ab",
   "metadata": {},
   "outputs": [
    {
     "data": {
      "text/plain": [
       "array(['NORM', 'MI', 'NORM', 'NORM', 'MI', 'MI', 'NORM', 'NORM', 'MI',\n",
       "       'NORM'], dtype=object)"
      ]
     },
     "execution_count": 35,
     "metadata": {},
     "output_type": "execute_result"
    }
   ],
   "source": [
    "predictions"
   ]
  },
  {
   "cell_type": "code",
   "execution_count": 39,
   "id": "8e548fd6",
   "metadata": {},
   "outputs": [
    {
     "data": {
      "text/plain": [
       "20      MI\n",
       "17      MI\n",
       "5     NORM\n",
       "14      MI\n",
       "28    NORM\n",
       "27    NORM\n",
       "4     NORM\n",
       "15      MI\n",
       "2       MI\n",
       "18    NORM\n",
       "Name: labels_str, dtype: object"
      ]
     },
     "execution_count": 39,
     "metadata": {},
     "output_type": "execute_result"
    }
   ],
   "source": [
    "y_test"
   ]
  },
  {
   "cell_type": "markdown",
   "id": "c7046d12",
   "metadata": {},
   "source": [
    "### The below cell will be tested later"
   ]
  },
  {
   "cell_type": "code",
   "execution_count": null,
   "id": "39ae32f9",
   "metadata": {},
   "outputs": [],
   "source": [
    "# Split data into train and test\n",
    "test_fold = 10\n",
    "# Train\n",
    "X_train = X[np.where(Y.strat_fold != test_fold)]\n",
    "y_train = Y[(Y.strat_fold != test_fold)].diagnostic_superclass\n",
    "# Test\n",
    "X_test = X[np.where(Y.strat_fold == test_fold)]\n",
    "y_test = Y[Y.strat_fold == test_fold].diagnostic_superclass"
   ]
  }
 ],
 "metadata": {
  "kernelspec": {
   "display_name": "Python 3 (ipykernel)",
   "language": "python",
   "name": "python3"
  },
  "language_info": {
   "codemirror_mode": {
    "name": "ipython",
    "version": 3
   },
   "file_extension": ".py",
   "mimetype": "text/x-python",
   "name": "python",
   "nbconvert_exporter": "python",
   "pygments_lexer": "ipython3",
   "version": "3.9.18"
  }
 },
 "nbformat": 4,
 "nbformat_minor": 5
}
